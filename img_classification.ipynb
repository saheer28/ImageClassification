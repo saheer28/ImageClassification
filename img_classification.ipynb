{
  "nbformat": 4,
  "nbformat_minor": 0,
  "metadata": {
    "colab": {
      "provenance": [],
      "mount_file_id": "1lYSXQoJaC9raDcby2VvXIg2iNEgXS9IL",
      "authorship_tag": "ABX9TyO/HuFlsSEGYm1J50BCGPYt",
      "include_colab_link": true
    },
    "kernelspec": {
      "name": "python3",
      "display_name": "Python 3"
    },
    "language_info": {
      "name": "python"
    }
  },
  "cells": [
    {
      "cell_type": "markdown",
      "metadata": {
        "id": "view-in-github",
        "colab_type": "text"
      },
      "source": [
        "<a href=\"https://colab.research.google.com/github/saheer28/ImageClassification/blob/main/img_classification.ipynb\" target=\"_parent\"><img src=\"https://colab.research.google.com/assets/colab-badge.svg\" alt=\"Open In Colab\"/></a>"
      ]
    },
    {
      "cell_type": "code",
      "execution_count": 86,
      "metadata": {
        "id": "qvkoaG_O0S5N"
      },
      "outputs": [],
      "source": [
        "import os"
      ]
    },
    {
      "cell_type": "code",
      "source": [
        "os.listdir('/content/drive/MyDrive/data')"
      ],
      "metadata": {
        "colab": {
          "base_uri": "https://localhost:8080/"
        },
        "id": "CdFCTkzC2MkC",
        "outputId": "b9a078a3-2798-4f31-aac7-92a05807e7ea"
      },
      "execution_count": 87,
      "outputs": [
        {
          "output_type": "execute_result",
          "data": {
            "text/plain": [
              "['Cat', 'Dog']"
            ]
          },
          "metadata": {},
          "execution_count": 87
        }
      ]
    },
    {
      "cell_type": "code",
      "source": [
        "len(os.listdir('/content/drive/MyDrive/data/Cat'))"
      ],
      "metadata": {
        "colab": {
          "base_uri": "https://localhost:8080/"
        },
        "id": "KLa_U0hn2fvK",
        "outputId": "8e76f291-8df5-47b3-fd37-fd59ff7fd38c"
      },
      "execution_count": 88,
      "outputs": [
        {
          "output_type": "execute_result",
          "data": {
            "text/plain": [
              "60"
            ]
          },
          "metadata": {},
          "execution_count": 88
        }
      ]
    },
    {
      "cell_type": "code",
      "source": [
        "len(os.listdir('/content/drive/MyDrive/data/Dog'))"
      ],
      "metadata": {
        "colab": {
          "base_uri": "https://localhost:8080/"
        },
        "id": "srsrW5Gj2rhC",
        "outputId": "c44dd719-e131-4aee-d05c-22a7c533e6cf"
      },
      "execution_count": 89,
      "outputs": [
        {
          "output_type": "execute_result",
          "data": {
            "text/plain": [
              "66"
            ]
          },
          "metadata": {},
          "execution_count": 89
        }
      ]
    },
    {
      "cell_type": "code",
      "source": [
        "datadir='/content/drive/MyDrive/data'\n",
        "dogpath=os.path.join(datadir,'Dog')\n",
        "dogpath"
      ],
      "metadata": {
        "colab": {
          "base_uri": "https://localhost:8080/",
          "height": 36
        },
        "id": "5FqQNbWs2wvx",
        "outputId": "8c1c5d54-7b85-4514-8e16-e85aa4f81812"
      },
      "execution_count": 90,
      "outputs": [
        {
          "output_type": "execute_result",
          "data": {
            "text/plain": [
              "'/content/drive/MyDrive/data/Dog'"
            ],
            "application/vnd.google.colaboratory.intrinsic+json": {
              "type": "string"
            }
          },
          "metadata": {},
          "execution_count": 90
        }
      ]
    },
    {
      "cell_type": "code",
      "source": [
        "os.listdir(dogpath)"
      ],
      "metadata": {
        "colab": {
          "base_uri": "https://localhost:8080/"
        },
        "id": "zJKY8m_H4Kqu",
        "outputId": "b3336915-4599-4cb1-c29b-df054fa828c4"
      },
      "execution_count": 91,
      "outputs": [
        {
          "output_type": "execute_result",
          "data": {
            "text/plain": [
              "['dog.71.jpg',\n",
              " 'dog.68.jpg',\n",
              " 'download3.jpeg',\n",
              " 'dog.45.jpg',\n",
              " 'download6.jpeg',\n",
              " 'dog.67.jpg',\n",
              " 'dog.70.jpg',\n",
              " 'dog.61.jpg',\n",
              " 'dog.57.jpg',\n",
              " 'dog.63.jpg',\n",
              " 'dog.76.jpg',\n",
              " 'dog.79.jpg',\n",
              " 'dog.64.jpg',\n",
              " 'download8.jpeg',\n",
              " 'dog.42.jpg',\n",
              " 'dog.39.jpg',\n",
              " 'dog.44.jpg',\n",
              " 'dog.58.jpg',\n",
              " 'download4.jpeg',\n",
              " 'download7.jpeg',\n",
              " 'dog.60.jpg',\n",
              " 'dog.69.jpg',\n",
              " 'dog.40.jpg',\n",
              " 'dog.56.jpg',\n",
              " 'dog.66.jpg',\n",
              " 'download1.jpeg',\n",
              " 'dog.38.jpg',\n",
              " 'dog.82.jpg',\n",
              " 'dog.35.jpg',\n",
              " 'dog.78.jpg',\n",
              " 'dog.26.jpg',\n",
              " 'dog.47.jpg',\n",
              " 'dog.80.jpg',\n",
              " 'dog.77.jpg',\n",
              " 'dog.46.jpg',\n",
              " 'dog.36.jpg',\n",
              " 'dog.18.jpg',\n",
              " 'dog.48.jpg',\n",
              " 'dog.25.jpg',\n",
              " 'dog.30.jpg',\n",
              " 'dog.81.jpg',\n",
              " 'images.jpeg',\n",
              " 'dog.34.jpg',\n",
              " 'dog.55.jpg',\n",
              " 'dog.33.jpg',\n",
              " 'dog.65.jpg',\n",
              " 'dog.28.jpg',\n",
              " 'download5.jpeg',\n",
              " 'dog.31.jpg',\n",
              " 'dog.14.jpg',\n",
              " 'download2.jpeg',\n",
              " 'dog.13.jpg',\n",
              " 'dog.16.jpg',\n",
              " 'dog.12.jpg',\n",
              " 'dog.17.jpg',\n",
              " 'dog.51.jpg',\n",
              " 'dog.22.jpg',\n",
              " 'dog.27.jpg',\n",
              " 'dog.21.jpg',\n",
              " 'dog.19.jpg',\n",
              " 'dog.15.jpg',\n",
              " 'dog.20.jpg',\n",
              " 'dog.32.jpg',\n",
              " 'dog.23.jpg',\n",
              " 'images1.jpeg',\n",
              " 'dog.24.jpg']"
            ]
          },
          "metadata": {},
          "execution_count": 91
        }
      ]
    },
    {
      "cell_type": "code",
      "source": [
        "datadir='/content/drive/MyDrive/data'\n",
        "subfold=os.listdir(datadir)\n",
        "print(subfold)\n",
        "for i in subfold:\n",
        "  subfoldpath=os.path.join(datadir,i)\n",
        "  print(subfoldpath)\n",
        "  print(os.listdir(subfoldpath))"
      ],
      "metadata": {
        "colab": {
          "base_uri": "https://localhost:8080/"
        },
        "id": "0RCFrFY04U4w",
        "outputId": "6fa1a0b9-412b-4d79-b1cf-df73a46f5761"
      },
      "execution_count": 92,
      "outputs": [
        {
          "output_type": "stream",
          "name": "stdout",
          "text": [
            "['Cat', 'Dog']\n",
            "/content/drive/MyDrive/data/Cat\n",
            "['cat.47.jpg', 'cat.37.jpg', 'cat.4 - Copy.jpg', 'cat.54.jpg', 'download3.jpeg', 'download.jpeg', 'cat.5.jpg', 'download8.jpeg', 'cat.5 - Copy.jpg', 'cat.41.jpg', 'images9.jpeg', 'cat.32.jpg', 'cat.40.jpg', 'cat.53.jpg', 'cat.46.jpg', 'cat.8.jpg', 'cat.7.jpg', 'cat.52.jpg', 'cat.36.jpg', 'cat.44.jpg', 'cat.29.jpg', 'download1.jpeg', 'cat.31.jpg', 'cat.28.jpg', 'cat.13.jpg', 'cat.9.jpg', 'cat.27.jpg', 'download5.jpeg', 'download4.jpeg', 'cat.42.jpg', 'download2.jpeg', 'cat.30.jpg', 'cat.12.jpg', 'cat.18.jpg', 'cat.51.jpg', 'cat.34.jpg', 'cat.48.jpg', 'cat.17.jpg', 'cat.11.jpg', 'cat.3 - Copy.jpg', 'cat.20.jpg', 'cat.2 - Copy.jpg', 'download6.jpeg', 'cat.39.jpg', 'cat.35.jpg', 'download7.jpeg', 'downloadcat.jpeg', 'cat.43.jpg', 'images.jpeg', 'cat.49.jpg', 'cat.33.jpg', 'cat.50.jpg', 'cat.38.jpg', 'cat.1 - Copy.jpg', 'cat.16.jpg', 'cat.10.jpg', 'cat.24.jpg', 'cat.14.jpg', 'cat.15.jpg', 'cat.21.jpg']\n",
            "/content/drive/MyDrive/data/Dog\n",
            "['dog.71.jpg', 'dog.68.jpg', 'download3.jpeg', 'dog.45.jpg', 'download6.jpeg', 'dog.67.jpg', 'dog.70.jpg', 'dog.61.jpg', 'dog.57.jpg', 'dog.63.jpg', 'dog.76.jpg', 'dog.79.jpg', 'dog.64.jpg', 'download8.jpeg', 'dog.42.jpg', 'dog.39.jpg', 'dog.44.jpg', 'dog.58.jpg', 'download4.jpeg', 'download7.jpeg', 'dog.60.jpg', 'dog.69.jpg', 'dog.40.jpg', 'dog.56.jpg', 'dog.66.jpg', 'download1.jpeg', 'dog.38.jpg', 'dog.82.jpg', 'dog.35.jpg', 'dog.78.jpg', 'dog.26.jpg', 'dog.47.jpg', 'dog.80.jpg', 'dog.77.jpg', 'dog.46.jpg', 'dog.36.jpg', 'dog.18.jpg', 'dog.48.jpg', 'dog.25.jpg', 'dog.30.jpg', 'dog.81.jpg', 'images.jpeg', 'dog.34.jpg', 'dog.55.jpg', 'dog.33.jpg', 'dog.65.jpg', 'dog.28.jpg', 'download5.jpeg', 'dog.31.jpg', 'dog.14.jpg', 'download2.jpeg', 'dog.13.jpg', 'dog.16.jpg', 'dog.12.jpg', 'dog.17.jpg', 'dog.51.jpg', 'dog.22.jpg', 'dog.27.jpg', 'dog.21.jpg', 'dog.19.jpg', 'dog.15.jpg', 'dog.20.jpg', 'dog.32.jpg', 'dog.23.jpg', 'images1.jpeg', 'dog.24.jpg']\n"
          ]
        }
      ]
    },
    {
      "cell_type": "code",
      "source": [
        "import pandas as pd\n",
        "import matplotlib.pyplot as plt\n",
        "from skimage.transform import resize\n",
        "from skimage.io import imread\n",
        "from sklearn.svm import SVC\n",
        "from sklearn.model_selection import train_test_split\n",
        "from sklearn.metrics import classification_report,ConfusionMatrixDisplay"
      ],
      "metadata": {
        "id": "VhT0BspuDsp1"
      },
      "execution_count": 93,
      "outputs": []
    },
    {
      "cell_type": "code",
      "source": [
        "#to read image\n",
        "img1=imread('/content/drive/MyDrive/data/Cat/cat.10.jpg')\n",
        "img1.shape"
      ],
      "metadata": {
        "colab": {
          "base_uri": "https://localhost:8080/"
        },
        "id": "RVvYQJJPEH1i",
        "outputId": "cf23e4c1-bd2d-48d8-a621-71c1e0b36f9f"
      },
      "execution_count": 94,
      "outputs": [
        {
          "output_type": "execute_result",
          "data": {
            "text/plain": [
              "(499, 489, 3)"
            ]
          },
          "metadata": {},
          "execution_count": 94
        }
      ]
    },
    {
      "cell_type": "code",
      "source": [
        "img1=imread('/content/drive/MyDrive/data/Cat/cat.11.jpg')\n",
        "img1"
      ],
      "metadata": {
        "colab": {
          "base_uri": "https://localhost:8080/"
        },
        "id": "z7DHK3l8EiAv",
        "outputId": "d8377e1b-414c-42d1-ae68-2f9c63f2d71e"
      },
      "execution_count": 95,
      "outputs": [
        {
          "output_type": "execute_result",
          "data": {
            "text/plain": [
              "array([[[235, 241, 237],\n",
              "        [231, 237, 233],\n",
              "        [213, 222, 219],\n",
              "        ...,\n",
              "        [ 61,  76,  57],\n",
              "        [ 58,  73,  54],\n",
              "        [ 53,  68,  49]],\n",
              "\n",
              "       [[249, 255, 253],\n",
              "        [235, 241, 239],\n",
              "        [207, 216, 213],\n",
              "        ...,\n",
              "        [ 62,  77,  58],\n",
              "        [ 61,  76,  57],\n",
              "        [ 57,  72,  53]],\n",
              "\n",
              "       [[242, 248, 248],\n",
              "        [223, 229, 229],\n",
              "        [194, 203, 202],\n",
              "        ...,\n",
              "        [ 63,  76,  58],\n",
              "        [ 63,  76,  58],\n",
              "        [ 59,  72,  54]],\n",
              "\n",
              "       ...,\n",
              "\n",
              "       [[ 89,  95, 107],\n",
              "        [125, 131, 143],\n",
              "        [170, 176, 188],\n",
              "        ...,\n",
              "        [199, 215, 240],\n",
              "        [199, 215, 240],\n",
              "        [199, 215, 238]],\n",
              "\n",
              "       [[ 87,  93, 107],\n",
              "        [113, 119, 133],\n",
              "        [133, 139, 153],\n",
              "        ...,\n",
              "        [198, 214, 239],\n",
              "        [202, 218, 243],\n",
              "        [201, 217, 240]],\n",
              "\n",
              "       [[ 89,  92, 107],\n",
              "        [115, 118, 133],\n",
              "        [135, 138, 153],\n",
              "        ...,\n",
              "        [198, 214, 239],\n",
              "        [202, 218, 243],\n",
              "        [201, 217, 240]]], dtype=uint8)"
            ]
          },
          "metadata": {},
          "execution_count": 95
        }
      ]
    },
    {
      "cell_type": "code",
      "source": [
        "data_array=[]\n",
        "target_array=[]\n",
        "Categories=['Cat','Dog']\n",
        "datadir='/content/drive/MyDrive/data'\n",
        "for i in Categories:\n",
        "  sub_path=os.path.join(datadir,i)\n",
        "  imgs=os.listdir(sub_path)\n",
        "  for img in imgs:\n",
        "    img_path=os.path.join(sub_path,img)\n",
        "    img_array=imread(img_path)      #to read img\n",
        "    img_resized=resize(img_array,(150,150,3))   #to resize all imgs in same shape\n",
        "    data_array.append(img_resized.flatten())    #append to store all the resized imgs to data_array.flatten-convert all in one dimension\n",
        "    target_array.append(Categories.index(i))     #cat-0 dog-1\n",
        "  print('Loaded Category:',i)"
      ],
      "metadata": {
        "colab": {
          "base_uri": "https://localhost:8080/"
        },
        "id": "veTGlt5YFIHh",
        "outputId": "2e404223-223a-4883-cf9a-2bc41fb71faf"
      },
      "execution_count": 96,
      "outputs": [
        {
          "output_type": "stream",
          "name": "stdout",
          "text": [
            "Loaded Category: Cat\n",
            "Loaded Category: Dog\n"
          ]
        }
      ]
    },
    {
      "cell_type": "code",
      "source": [
        "import numpy as np\n",
        "data=np.array(data_array)\n",
        "data.shape       #126=60(cat)+66(dog)   #67500=(150*150*3)=total elements"
      ],
      "metadata": {
        "colab": {
          "base_uri": "https://localhost:8080/"
        },
        "id": "fgA5JxWDJIFU",
        "outputId": "30de4533-214a-4906-a6c2-6011a8d249f0"
      },
      "execution_count": 97,
      "outputs": [
        {
          "output_type": "execute_result",
          "data": {
            "text/plain": [
              "(126, 67500)"
            ]
          },
          "metadata": {},
          "execution_count": 97
        }
      ]
    },
    {
      "cell_type": "code",
      "source": [
        "target=np.array(target_array)\n",
        "target.shape"
      ],
      "metadata": {
        "colab": {
          "base_uri": "https://localhost:8080/"
        },
        "id": "e60V8CuALRmq",
        "outputId": "fb30d7db-262d-467a-c863-12bd7c0debc4"
      },
      "execution_count": 98,
      "outputs": [
        {
          "output_type": "execute_result",
          "data": {
            "text/plain": [
              "(126,)"
            ]
          },
          "metadata": {},
          "execution_count": 98
        }
      ]
    },
    {
      "cell_type": "code",
      "source": [
        "df=pd.DataFrame(data)\n",
        "df                     #scaled when they are resized or normalized"
      ],
      "metadata": {
        "colab": {
          "base_uri": "https://localhost:8080/",
          "height": 487
        },
        "id": "y8dYLY4OKqOp",
        "outputId": "1bc2b7e1-0ccb-4608-f8e0-4244b8675fca"
      },
      "execution_count": 99,
      "outputs": [
        {
          "output_type": "execute_result",
          "data": {
            "text/plain": [
              "        0         1         2         3         4         5         6      \\\n",
              "0    0.688412  0.531643  0.395974  0.731157  0.588928  0.484322  0.682758   \n",
              "1    0.416376  0.290886  0.208533  0.417039  0.291549  0.209196  0.426884   \n",
              "2    0.555814  0.515879  0.482742  0.596396  0.556461  0.523324  0.622525   \n",
              "3    0.795772  0.706210  0.634910  0.772007  0.667946  0.586028  0.672832   \n",
              "4    0.905882  0.905882  0.945098  0.905882  0.905882  0.945098  0.905882   \n",
              "..        ...       ...       ...       ...       ...       ...       ...   \n",
              "121  0.592301  0.636578  0.466485  0.643088  0.689995  0.502461  0.654429   \n",
              "122  0.288553  0.254789  0.228149  0.273477  0.239713  0.213073  0.295788   \n",
              "123  0.848785  0.825256  0.778197  0.853138  0.829609  0.782550  0.859961   \n",
              "124  0.180388  0.305878  0.211760  0.179468  0.304958  0.210840  0.176474   \n",
              "125  0.661561  0.649084  0.689929  0.678733  0.669130  0.702080  0.622789   \n",
              "\n",
              "        7         8         9      ...     67490     67491     67492  \\\n",
              "0    0.569825  0.515472  0.759933  ...  0.645727  0.791758  0.693719   \n",
              "1    0.301394  0.219041  0.414161  ...  0.031787  0.083930  0.058220   \n",
              "2    0.582591  0.549454  0.646829  ...  0.071420  0.032186  0.047531   \n",
              "3    0.548390  0.450092  0.639241  ...  0.470586  0.642898  0.556624   \n",
              "4    0.905882  0.945098  0.905882  ...  0.502096  0.831555  0.550248   \n",
              "..        ...       ...       ...  ...       ...       ...       ...   \n",
              "121  0.702293  0.507446  0.689096  ...  0.484030  0.496433  0.493256   \n",
              "122  0.262024  0.235383  0.287253  ...  0.360046  0.195299  0.250201   \n",
              "123  0.836432  0.789373  0.864315  ...  0.843427  0.914581  0.901095   \n",
              "124  0.301964  0.207846  0.174089  ...  0.170797  0.407024  0.567886   \n",
              "125  0.623406  0.643414  0.652441  ...  0.202541  0.310077  0.301230   \n",
              "\n",
              "        67493     67494     67495     67496     67497     67498     67499  \n",
              "0    0.609108  0.763330  0.665364  0.586627  0.787101  0.692954  0.598951  \n",
              "1    0.048819  0.086819  0.058698  0.050773  0.084667  0.051370  0.050185  \n",
              "2    0.078054  0.017165  0.057426  0.064244  0.018995  0.066028  0.059239  \n",
              "3    0.462506  0.628155  0.541880  0.447762  0.617226  0.530951  0.436834  \n",
              "4    0.443190  0.764945  0.466985  0.350671  0.761941  0.446072  0.328425  \n",
              "..        ...       ...       ...       ...       ...       ...       ...  \n",
              "121  0.343318  0.521789  0.520871  0.370331  0.564828  0.571568  0.419112  \n",
              "122  0.356083  0.186829  0.242148  0.347822  0.185009  0.246726  0.349201  \n",
              "123  0.886225  0.891244  0.865340  0.767687  0.843795  0.821282  0.704931  \n",
              "124  0.167792  0.393432  0.571711  0.150718  0.392157  0.572549  0.149020  \n",
              "125  0.180257  0.216560  0.248620  0.111527  0.251654  0.281901  0.122102  \n",
              "\n",
              "[126 rows x 67500 columns]"
            ],
            "text/html": [
              "\n",
              "  <div id=\"df-0cd9c737-fcc4-4efd-932e-f1aea1bdb3f6\">\n",
              "    <div class=\"colab-df-container\">\n",
              "      <div>\n",
              "<style scoped>\n",
              "    .dataframe tbody tr th:only-of-type {\n",
              "        vertical-align: middle;\n",
              "    }\n",
              "\n",
              "    .dataframe tbody tr th {\n",
              "        vertical-align: top;\n",
              "    }\n",
              "\n",
              "    .dataframe thead th {\n",
              "        text-align: right;\n",
              "    }\n",
              "</style>\n",
              "<table border=\"1\" class=\"dataframe\">\n",
              "  <thead>\n",
              "    <tr style=\"text-align: right;\">\n",
              "      <th></th>\n",
              "      <th>0</th>\n",
              "      <th>1</th>\n",
              "      <th>2</th>\n",
              "      <th>3</th>\n",
              "      <th>4</th>\n",
              "      <th>5</th>\n",
              "      <th>6</th>\n",
              "      <th>7</th>\n",
              "      <th>8</th>\n",
              "      <th>9</th>\n",
              "      <th>...</th>\n",
              "      <th>67490</th>\n",
              "      <th>67491</th>\n",
              "      <th>67492</th>\n",
              "      <th>67493</th>\n",
              "      <th>67494</th>\n",
              "      <th>67495</th>\n",
              "      <th>67496</th>\n",
              "      <th>67497</th>\n",
              "      <th>67498</th>\n",
              "      <th>67499</th>\n",
              "    </tr>\n",
              "  </thead>\n",
              "  <tbody>\n",
              "    <tr>\n",
              "      <th>0</th>\n",
              "      <td>0.688412</td>\n",
              "      <td>0.531643</td>\n",
              "      <td>0.395974</td>\n",
              "      <td>0.731157</td>\n",
              "      <td>0.588928</td>\n",
              "      <td>0.484322</td>\n",
              "      <td>0.682758</td>\n",
              "      <td>0.569825</td>\n",
              "      <td>0.515472</td>\n",
              "      <td>0.759933</td>\n",
              "      <td>...</td>\n",
              "      <td>0.645727</td>\n",
              "      <td>0.791758</td>\n",
              "      <td>0.693719</td>\n",
              "      <td>0.609108</td>\n",
              "      <td>0.763330</td>\n",
              "      <td>0.665364</td>\n",
              "      <td>0.586627</td>\n",
              "      <td>0.787101</td>\n",
              "      <td>0.692954</td>\n",
              "      <td>0.598951</td>\n",
              "    </tr>\n",
              "    <tr>\n",
              "      <th>1</th>\n",
              "      <td>0.416376</td>\n",
              "      <td>0.290886</td>\n",
              "      <td>0.208533</td>\n",
              "      <td>0.417039</td>\n",
              "      <td>0.291549</td>\n",
              "      <td>0.209196</td>\n",
              "      <td>0.426884</td>\n",
              "      <td>0.301394</td>\n",
              "      <td>0.219041</td>\n",
              "      <td>0.414161</td>\n",
              "      <td>...</td>\n",
              "      <td>0.031787</td>\n",
              "      <td>0.083930</td>\n",
              "      <td>0.058220</td>\n",
              "      <td>0.048819</td>\n",
              "      <td>0.086819</td>\n",
              "      <td>0.058698</td>\n",
              "      <td>0.050773</td>\n",
              "      <td>0.084667</td>\n",
              "      <td>0.051370</td>\n",
              "      <td>0.050185</td>\n",
              "    </tr>\n",
              "    <tr>\n",
              "      <th>2</th>\n",
              "      <td>0.555814</td>\n",
              "      <td>0.515879</td>\n",
              "      <td>0.482742</td>\n",
              "      <td>0.596396</td>\n",
              "      <td>0.556461</td>\n",
              "      <td>0.523324</td>\n",
              "      <td>0.622525</td>\n",
              "      <td>0.582591</td>\n",
              "      <td>0.549454</td>\n",
              "      <td>0.646829</td>\n",
              "      <td>...</td>\n",
              "      <td>0.071420</td>\n",
              "      <td>0.032186</td>\n",
              "      <td>0.047531</td>\n",
              "      <td>0.078054</td>\n",
              "      <td>0.017165</td>\n",
              "      <td>0.057426</td>\n",
              "      <td>0.064244</td>\n",
              "      <td>0.018995</td>\n",
              "      <td>0.066028</td>\n",
              "      <td>0.059239</td>\n",
              "    </tr>\n",
              "    <tr>\n",
              "      <th>3</th>\n",
              "      <td>0.795772</td>\n",
              "      <td>0.706210</td>\n",
              "      <td>0.634910</td>\n",
              "      <td>0.772007</td>\n",
              "      <td>0.667946</td>\n",
              "      <td>0.586028</td>\n",
              "      <td>0.672832</td>\n",
              "      <td>0.548390</td>\n",
              "      <td>0.450092</td>\n",
              "      <td>0.639241</td>\n",
              "      <td>...</td>\n",
              "      <td>0.470586</td>\n",
              "      <td>0.642898</td>\n",
              "      <td>0.556624</td>\n",
              "      <td>0.462506</td>\n",
              "      <td>0.628155</td>\n",
              "      <td>0.541880</td>\n",
              "      <td>0.447762</td>\n",
              "      <td>0.617226</td>\n",
              "      <td>0.530951</td>\n",
              "      <td>0.436834</td>\n",
              "    </tr>\n",
              "    <tr>\n",
              "      <th>4</th>\n",
              "      <td>0.905882</td>\n",
              "      <td>0.905882</td>\n",
              "      <td>0.945098</td>\n",
              "      <td>0.905882</td>\n",
              "      <td>0.905882</td>\n",
              "      <td>0.945098</td>\n",
              "      <td>0.905882</td>\n",
              "      <td>0.905882</td>\n",
              "      <td>0.945098</td>\n",
              "      <td>0.905882</td>\n",
              "      <td>...</td>\n",
              "      <td>0.502096</td>\n",
              "      <td>0.831555</td>\n",
              "      <td>0.550248</td>\n",
              "      <td>0.443190</td>\n",
              "      <td>0.764945</td>\n",
              "      <td>0.466985</td>\n",
              "      <td>0.350671</td>\n",
              "      <td>0.761941</td>\n",
              "      <td>0.446072</td>\n",
              "      <td>0.328425</td>\n",
              "    </tr>\n",
              "    <tr>\n",
              "      <th>...</th>\n",
              "      <td>...</td>\n",
              "      <td>...</td>\n",
              "      <td>...</td>\n",
              "      <td>...</td>\n",
              "      <td>...</td>\n",
              "      <td>...</td>\n",
              "      <td>...</td>\n",
              "      <td>...</td>\n",
              "      <td>...</td>\n",
              "      <td>...</td>\n",
              "      <td>...</td>\n",
              "      <td>...</td>\n",
              "      <td>...</td>\n",
              "      <td>...</td>\n",
              "      <td>...</td>\n",
              "      <td>...</td>\n",
              "      <td>...</td>\n",
              "      <td>...</td>\n",
              "      <td>...</td>\n",
              "      <td>...</td>\n",
              "      <td>...</td>\n",
              "    </tr>\n",
              "    <tr>\n",
              "      <th>121</th>\n",
              "      <td>0.592301</td>\n",
              "      <td>0.636578</td>\n",
              "      <td>0.466485</td>\n",
              "      <td>0.643088</td>\n",
              "      <td>0.689995</td>\n",
              "      <td>0.502461</td>\n",
              "      <td>0.654429</td>\n",
              "      <td>0.702293</td>\n",
              "      <td>0.507446</td>\n",
              "      <td>0.689096</td>\n",
              "      <td>...</td>\n",
              "      <td>0.484030</td>\n",
              "      <td>0.496433</td>\n",
              "      <td>0.493256</td>\n",
              "      <td>0.343318</td>\n",
              "      <td>0.521789</td>\n",
              "      <td>0.520871</td>\n",
              "      <td>0.370331</td>\n",
              "      <td>0.564828</td>\n",
              "      <td>0.571568</td>\n",
              "      <td>0.419112</td>\n",
              "    </tr>\n",
              "    <tr>\n",
              "      <th>122</th>\n",
              "      <td>0.288553</td>\n",
              "      <td>0.254789</td>\n",
              "      <td>0.228149</td>\n",
              "      <td>0.273477</td>\n",
              "      <td>0.239713</td>\n",
              "      <td>0.213073</td>\n",
              "      <td>0.295788</td>\n",
              "      <td>0.262024</td>\n",
              "      <td>0.235383</td>\n",
              "      <td>0.287253</td>\n",
              "      <td>...</td>\n",
              "      <td>0.360046</td>\n",
              "      <td>0.195299</td>\n",
              "      <td>0.250201</td>\n",
              "      <td>0.356083</td>\n",
              "      <td>0.186829</td>\n",
              "      <td>0.242148</td>\n",
              "      <td>0.347822</td>\n",
              "      <td>0.185009</td>\n",
              "      <td>0.246726</td>\n",
              "      <td>0.349201</td>\n",
              "    </tr>\n",
              "    <tr>\n",
              "      <th>123</th>\n",
              "      <td>0.848785</td>\n",
              "      <td>0.825256</td>\n",
              "      <td>0.778197</td>\n",
              "      <td>0.853138</td>\n",
              "      <td>0.829609</td>\n",
              "      <td>0.782550</td>\n",
              "      <td>0.859961</td>\n",
              "      <td>0.836432</td>\n",
              "      <td>0.789373</td>\n",
              "      <td>0.864315</td>\n",
              "      <td>...</td>\n",
              "      <td>0.843427</td>\n",
              "      <td>0.914581</td>\n",
              "      <td>0.901095</td>\n",
              "      <td>0.886225</td>\n",
              "      <td>0.891244</td>\n",
              "      <td>0.865340</td>\n",
              "      <td>0.767687</td>\n",
              "      <td>0.843795</td>\n",
              "      <td>0.821282</td>\n",
              "      <td>0.704931</td>\n",
              "    </tr>\n",
              "    <tr>\n",
              "      <th>124</th>\n",
              "      <td>0.180388</td>\n",
              "      <td>0.305878</td>\n",
              "      <td>0.211760</td>\n",
              "      <td>0.179468</td>\n",
              "      <td>0.304958</td>\n",
              "      <td>0.210840</td>\n",
              "      <td>0.176474</td>\n",
              "      <td>0.301964</td>\n",
              "      <td>0.207846</td>\n",
              "      <td>0.174089</td>\n",
              "      <td>...</td>\n",
              "      <td>0.170797</td>\n",
              "      <td>0.407024</td>\n",
              "      <td>0.567886</td>\n",
              "      <td>0.167792</td>\n",
              "      <td>0.393432</td>\n",
              "      <td>0.571711</td>\n",
              "      <td>0.150718</td>\n",
              "      <td>0.392157</td>\n",
              "      <td>0.572549</td>\n",
              "      <td>0.149020</td>\n",
              "    </tr>\n",
              "    <tr>\n",
              "      <th>125</th>\n",
              "      <td>0.661561</td>\n",
              "      <td>0.649084</td>\n",
              "      <td>0.689929</td>\n",
              "      <td>0.678733</td>\n",
              "      <td>0.669130</td>\n",
              "      <td>0.702080</td>\n",
              "      <td>0.622789</td>\n",
              "      <td>0.623406</td>\n",
              "      <td>0.643414</td>\n",
              "      <td>0.652441</td>\n",
              "      <td>...</td>\n",
              "      <td>0.202541</td>\n",
              "      <td>0.310077</td>\n",
              "      <td>0.301230</td>\n",
              "      <td>0.180257</td>\n",
              "      <td>0.216560</td>\n",
              "      <td>0.248620</td>\n",
              "      <td>0.111527</td>\n",
              "      <td>0.251654</td>\n",
              "      <td>0.281901</td>\n",
              "      <td>0.122102</td>\n",
              "    </tr>\n",
              "  </tbody>\n",
              "</table>\n",
              "<p>126 rows × 67500 columns</p>\n",
              "</div>\n",
              "      <button class=\"colab-df-convert\" onclick=\"convertToInteractive('df-0cd9c737-fcc4-4efd-932e-f1aea1bdb3f6')\"\n",
              "              title=\"Convert this dataframe to an interactive table.\"\n",
              "              style=\"display:none;\">\n",
              "        \n",
              "  <svg xmlns=\"http://www.w3.org/2000/svg\" height=\"24px\"viewBox=\"0 0 24 24\"\n",
              "       width=\"24px\">\n",
              "    <path d=\"M0 0h24v24H0V0z\" fill=\"none\"/>\n",
              "    <path d=\"M18.56 5.44l.94 2.06.94-2.06 2.06-.94-2.06-.94-.94-2.06-.94 2.06-2.06.94zm-11 1L8.5 8.5l.94-2.06 2.06-.94-2.06-.94L8.5 2.5l-.94 2.06-2.06.94zm10 10l.94 2.06.94-2.06 2.06-.94-2.06-.94-.94-2.06-.94 2.06-2.06.94z\"/><path d=\"M17.41 7.96l-1.37-1.37c-.4-.4-.92-.59-1.43-.59-.52 0-1.04.2-1.43.59L10.3 9.45l-7.72 7.72c-.78.78-.78 2.05 0 2.83L4 21.41c.39.39.9.59 1.41.59.51 0 1.02-.2 1.41-.59l7.78-7.78 2.81-2.81c.8-.78.8-2.07 0-2.86zM5.41 20L4 18.59l7.72-7.72 1.47 1.35L5.41 20z\"/>\n",
              "  </svg>\n",
              "      </button>\n",
              "      \n",
              "  <style>\n",
              "    .colab-df-container {\n",
              "      display:flex;\n",
              "      flex-wrap:wrap;\n",
              "      gap: 12px;\n",
              "    }\n",
              "\n",
              "    .colab-df-convert {\n",
              "      background-color: #E8F0FE;\n",
              "      border: none;\n",
              "      border-radius: 50%;\n",
              "      cursor: pointer;\n",
              "      display: none;\n",
              "      fill: #1967D2;\n",
              "      height: 32px;\n",
              "      padding: 0 0 0 0;\n",
              "      width: 32px;\n",
              "    }\n",
              "\n",
              "    .colab-df-convert:hover {\n",
              "      background-color: #E2EBFA;\n",
              "      box-shadow: 0px 1px 2px rgba(60, 64, 67, 0.3), 0px 1px 3px 1px rgba(60, 64, 67, 0.15);\n",
              "      fill: #174EA6;\n",
              "    }\n",
              "\n",
              "    [theme=dark] .colab-df-convert {\n",
              "      background-color: #3B4455;\n",
              "      fill: #D2E3FC;\n",
              "    }\n",
              "\n",
              "    [theme=dark] .colab-df-convert:hover {\n",
              "      background-color: #434B5C;\n",
              "      box-shadow: 0px 1px 3px 1px rgba(0, 0, 0, 0.15);\n",
              "      filter: drop-shadow(0px 1px 2px rgba(0, 0, 0, 0.3));\n",
              "      fill: #FFFFFF;\n",
              "    }\n",
              "  </style>\n",
              "\n",
              "      <script>\n",
              "        const buttonEl =\n",
              "          document.querySelector('#df-0cd9c737-fcc4-4efd-932e-f1aea1bdb3f6 button.colab-df-convert');\n",
              "        buttonEl.style.display =\n",
              "          google.colab.kernel.accessAllowed ? 'block' : 'none';\n",
              "\n",
              "        async function convertToInteractive(key) {\n",
              "          const element = document.querySelector('#df-0cd9c737-fcc4-4efd-932e-f1aea1bdb3f6');\n",
              "          const dataTable =\n",
              "            await google.colab.kernel.invokeFunction('convertToInteractive',\n",
              "                                                     [key], {});\n",
              "          if (!dataTable) return;\n",
              "\n",
              "          const docLinkHtml = 'Like what you see? Visit the ' +\n",
              "            '<a target=\"_blank\" href=https://colab.research.google.com/notebooks/data_table.ipynb>data table notebook</a>'\n",
              "            + ' to learn more about interactive tables.';\n",
              "          element.innerHTML = '';\n",
              "          dataTable['output_type'] = 'display_data';\n",
              "          await google.colab.output.renderOutput(dataTable, element);\n",
              "          const docLink = document.createElement('div');\n",
              "          docLink.innerHTML = docLinkHtml;\n",
              "          element.appendChild(docLink);\n",
              "        }\n",
              "      </script>\n",
              "    </div>\n",
              "  </div>\n",
              "  "
            ]
          },
          "metadata": {},
          "execution_count": 99
        }
      ]
    },
    {
      "cell_type": "code",
      "source": [
        "df['target']=target\n",
        "df"
      ],
      "metadata": {
        "colab": {
          "base_uri": "https://localhost:8080/",
          "height": 487
        },
        "id": "DmmKVXumLNZh",
        "outputId": "345d1465-2767-49fb-d001-d18077f2be54"
      },
      "execution_count": 100,
      "outputs": [
        {
          "output_type": "execute_result",
          "data": {
            "text/plain": [
              "            0         1         2         3         4         5         6  \\\n",
              "0    0.688412  0.531643  0.395974  0.731157  0.588928  0.484322  0.682758   \n",
              "1    0.416376  0.290886  0.208533  0.417039  0.291549  0.209196  0.426884   \n",
              "2    0.555814  0.515879  0.482742  0.596396  0.556461  0.523324  0.622525   \n",
              "3    0.795772  0.706210  0.634910  0.772007  0.667946  0.586028  0.672832   \n",
              "4    0.905882  0.905882  0.945098  0.905882  0.905882  0.945098  0.905882   \n",
              "..        ...       ...       ...       ...       ...       ...       ...   \n",
              "121  0.592301  0.636578  0.466485  0.643088  0.689995  0.502461  0.654429   \n",
              "122  0.288553  0.254789  0.228149  0.273477  0.239713  0.213073  0.295788   \n",
              "123  0.848785  0.825256  0.778197  0.853138  0.829609  0.782550  0.859961   \n",
              "124  0.180388  0.305878  0.211760  0.179468  0.304958  0.210840  0.176474   \n",
              "125  0.661561  0.649084  0.689929  0.678733  0.669130  0.702080  0.622789   \n",
              "\n",
              "            7         8         9  ...     67491     67492     67493  \\\n",
              "0    0.569825  0.515472  0.759933  ...  0.791758  0.693719  0.609108   \n",
              "1    0.301394  0.219041  0.414161  ...  0.083930  0.058220  0.048819   \n",
              "2    0.582591  0.549454  0.646829  ...  0.032186  0.047531  0.078054   \n",
              "3    0.548390  0.450092  0.639241  ...  0.642898  0.556624  0.462506   \n",
              "4    0.905882  0.945098  0.905882  ...  0.831555  0.550248  0.443190   \n",
              "..        ...       ...       ...  ...       ...       ...       ...   \n",
              "121  0.702293  0.507446  0.689096  ...  0.496433  0.493256  0.343318   \n",
              "122  0.262024  0.235383  0.287253  ...  0.195299  0.250201  0.356083   \n",
              "123  0.836432  0.789373  0.864315  ...  0.914581  0.901095  0.886225   \n",
              "124  0.301964  0.207846  0.174089  ...  0.407024  0.567886  0.167792   \n",
              "125  0.623406  0.643414  0.652441  ...  0.310077  0.301230  0.180257   \n",
              "\n",
              "        67494     67495     67496     67497     67498     67499  target  \n",
              "0    0.763330  0.665364  0.586627  0.787101  0.692954  0.598951       0  \n",
              "1    0.086819  0.058698  0.050773  0.084667  0.051370  0.050185       0  \n",
              "2    0.017165  0.057426  0.064244  0.018995  0.066028  0.059239       0  \n",
              "3    0.628155  0.541880  0.447762  0.617226  0.530951  0.436834       0  \n",
              "4    0.764945  0.466985  0.350671  0.761941  0.446072  0.328425       0  \n",
              "..        ...       ...       ...       ...       ...       ...     ...  \n",
              "121  0.521789  0.520871  0.370331  0.564828  0.571568  0.419112       1  \n",
              "122  0.186829  0.242148  0.347822  0.185009  0.246726  0.349201       1  \n",
              "123  0.891244  0.865340  0.767687  0.843795  0.821282  0.704931       1  \n",
              "124  0.393432  0.571711  0.150718  0.392157  0.572549  0.149020       1  \n",
              "125  0.216560  0.248620  0.111527  0.251654  0.281901  0.122102       1  \n",
              "\n",
              "[126 rows x 67501 columns]"
            ],
            "text/html": [
              "\n",
              "  <div id=\"df-a7cf59ea-5363-4f69-8cf5-1040cecaf1bb\">\n",
              "    <div class=\"colab-df-container\">\n",
              "      <div>\n",
              "<style scoped>\n",
              "    .dataframe tbody tr th:only-of-type {\n",
              "        vertical-align: middle;\n",
              "    }\n",
              "\n",
              "    .dataframe tbody tr th {\n",
              "        vertical-align: top;\n",
              "    }\n",
              "\n",
              "    .dataframe thead th {\n",
              "        text-align: right;\n",
              "    }\n",
              "</style>\n",
              "<table border=\"1\" class=\"dataframe\">\n",
              "  <thead>\n",
              "    <tr style=\"text-align: right;\">\n",
              "      <th></th>\n",
              "      <th>0</th>\n",
              "      <th>1</th>\n",
              "      <th>2</th>\n",
              "      <th>3</th>\n",
              "      <th>4</th>\n",
              "      <th>5</th>\n",
              "      <th>6</th>\n",
              "      <th>7</th>\n",
              "      <th>8</th>\n",
              "      <th>9</th>\n",
              "      <th>...</th>\n",
              "      <th>67491</th>\n",
              "      <th>67492</th>\n",
              "      <th>67493</th>\n",
              "      <th>67494</th>\n",
              "      <th>67495</th>\n",
              "      <th>67496</th>\n",
              "      <th>67497</th>\n",
              "      <th>67498</th>\n",
              "      <th>67499</th>\n",
              "      <th>target</th>\n",
              "    </tr>\n",
              "  </thead>\n",
              "  <tbody>\n",
              "    <tr>\n",
              "      <th>0</th>\n",
              "      <td>0.688412</td>\n",
              "      <td>0.531643</td>\n",
              "      <td>0.395974</td>\n",
              "      <td>0.731157</td>\n",
              "      <td>0.588928</td>\n",
              "      <td>0.484322</td>\n",
              "      <td>0.682758</td>\n",
              "      <td>0.569825</td>\n",
              "      <td>0.515472</td>\n",
              "      <td>0.759933</td>\n",
              "      <td>...</td>\n",
              "      <td>0.791758</td>\n",
              "      <td>0.693719</td>\n",
              "      <td>0.609108</td>\n",
              "      <td>0.763330</td>\n",
              "      <td>0.665364</td>\n",
              "      <td>0.586627</td>\n",
              "      <td>0.787101</td>\n",
              "      <td>0.692954</td>\n",
              "      <td>0.598951</td>\n",
              "      <td>0</td>\n",
              "    </tr>\n",
              "    <tr>\n",
              "      <th>1</th>\n",
              "      <td>0.416376</td>\n",
              "      <td>0.290886</td>\n",
              "      <td>0.208533</td>\n",
              "      <td>0.417039</td>\n",
              "      <td>0.291549</td>\n",
              "      <td>0.209196</td>\n",
              "      <td>0.426884</td>\n",
              "      <td>0.301394</td>\n",
              "      <td>0.219041</td>\n",
              "      <td>0.414161</td>\n",
              "      <td>...</td>\n",
              "      <td>0.083930</td>\n",
              "      <td>0.058220</td>\n",
              "      <td>0.048819</td>\n",
              "      <td>0.086819</td>\n",
              "      <td>0.058698</td>\n",
              "      <td>0.050773</td>\n",
              "      <td>0.084667</td>\n",
              "      <td>0.051370</td>\n",
              "      <td>0.050185</td>\n",
              "      <td>0</td>\n",
              "    </tr>\n",
              "    <tr>\n",
              "      <th>2</th>\n",
              "      <td>0.555814</td>\n",
              "      <td>0.515879</td>\n",
              "      <td>0.482742</td>\n",
              "      <td>0.596396</td>\n",
              "      <td>0.556461</td>\n",
              "      <td>0.523324</td>\n",
              "      <td>0.622525</td>\n",
              "      <td>0.582591</td>\n",
              "      <td>0.549454</td>\n",
              "      <td>0.646829</td>\n",
              "      <td>...</td>\n",
              "      <td>0.032186</td>\n",
              "      <td>0.047531</td>\n",
              "      <td>0.078054</td>\n",
              "      <td>0.017165</td>\n",
              "      <td>0.057426</td>\n",
              "      <td>0.064244</td>\n",
              "      <td>0.018995</td>\n",
              "      <td>0.066028</td>\n",
              "      <td>0.059239</td>\n",
              "      <td>0</td>\n",
              "    </tr>\n",
              "    <tr>\n",
              "      <th>3</th>\n",
              "      <td>0.795772</td>\n",
              "      <td>0.706210</td>\n",
              "      <td>0.634910</td>\n",
              "      <td>0.772007</td>\n",
              "      <td>0.667946</td>\n",
              "      <td>0.586028</td>\n",
              "      <td>0.672832</td>\n",
              "      <td>0.548390</td>\n",
              "      <td>0.450092</td>\n",
              "      <td>0.639241</td>\n",
              "      <td>...</td>\n",
              "      <td>0.642898</td>\n",
              "      <td>0.556624</td>\n",
              "      <td>0.462506</td>\n",
              "      <td>0.628155</td>\n",
              "      <td>0.541880</td>\n",
              "      <td>0.447762</td>\n",
              "      <td>0.617226</td>\n",
              "      <td>0.530951</td>\n",
              "      <td>0.436834</td>\n",
              "      <td>0</td>\n",
              "    </tr>\n",
              "    <tr>\n",
              "      <th>4</th>\n",
              "      <td>0.905882</td>\n",
              "      <td>0.905882</td>\n",
              "      <td>0.945098</td>\n",
              "      <td>0.905882</td>\n",
              "      <td>0.905882</td>\n",
              "      <td>0.945098</td>\n",
              "      <td>0.905882</td>\n",
              "      <td>0.905882</td>\n",
              "      <td>0.945098</td>\n",
              "      <td>0.905882</td>\n",
              "      <td>...</td>\n",
              "      <td>0.831555</td>\n",
              "      <td>0.550248</td>\n",
              "      <td>0.443190</td>\n",
              "      <td>0.764945</td>\n",
              "      <td>0.466985</td>\n",
              "      <td>0.350671</td>\n",
              "      <td>0.761941</td>\n",
              "      <td>0.446072</td>\n",
              "      <td>0.328425</td>\n",
              "      <td>0</td>\n",
              "    </tr>\n",
              "    <tr>\n",
              "      <th>...</th>\n",
              "      <td>...</td>\n",
              "      <td>...</td>\n",
              "      <td>...</td>\n",
              "      <td>...</td>\n",
              "      <td>...</td>\n",
              "      <td>...</td>\n",
              "      <td>...</td>\n",
              "      <td>...</td>\n",
              "      <td>...</td>\n",
              "      <td>...</td>\n",
              "      <td>...</td>\n",
              "      <td>...</td>\n",
              "      <td>...</td>\n",
              "      <td>...</td>\n",
              "      <td>...</td>\n",
              "      <td>...</td>\n",
              "      <td>...</td>\n",
              "      <td>...</td>\n",
              "      <td>...</td>\n",
              "      <td>...</td>\n",
              "      <td>...</td>\n",
              "    </tr>\n",
              "    <tr>\n",
              "      <th>121</th>\n",
              "      <td>0.592301</td>\n",
              "      <td>0.636578</td>\n",
              "      <td>0.466485</td>\n",
              "      <td>0.643088</td>\n",
              "      <td>0.689995</td>\n",
              "      <td>0.502461</td>\n",
              "      <td>0.654429</td>\n",
              "      <td>0.702293</td>\n",
              "      <td>0.507446</td>\n",
              "      <td>0.689096</td>\n",
              "      <td>...</td>\n",
              "      <td>0.496433</td>\n",
              "      <td>0.493256</td>\n",
              "      <td>0.343318</td>\n",
              "      <td>0.521789</td>\n",
              "      <td>0.520871</td>\n",
              "      <td>0.370331</td>\n",
              "      <td>0.564828</td>\n",
              "      <td>0.571568</td>\n",
              "      <td>0.419112</td>\n",
              "      <td>1</td>\n",
              "    </tr>\n",
              "    <tr>\n",
              "      <th>122</th>\n",
              "      <td>0.288553</td>\n",
              "      <td>0.254789</td>\n",
              "      <td>0.228149</td>\n",
              "      <td>0.273477</td>\n",
              "      <td>0.239713</td>\n",
              "      <td>0.213073</td>\n",
              "      <td>0.295788</td>\n",
              "      <td>0.262024</td>\n",
              "      <td>0.235383</td>\n",
              "      <td>0.287253</td>\n",
              "      <td>...</td>\n",
              "      <td>0.195299</td>\n",
              "      <td>0.250201</td>\n",
              "      <td>0.356083</td>\n",
              "      <td>0.186829</td>\n",
              "      <td>0.242148</td>\n",
              "      <td>0.347822</td>\n",
              "      <td>0.185009</td>\n",
              "      <td>0.246726</td>\n",
              "      <td>0.349201</td>\n",
              "      <td>1</td>\n",
              "    </tr>\n",
              "    <tr>\n",
              "      <th>123</th>\n",
              "      <td>0.848785</td>\n",
              "      <td>0.825256</td>\n",
              "      <td>0.778197</td>\n",
              "      <td>0.853138</td>\n",
              "      <td>0.829609</td>\n",
              "      <td>0.782550</td>\n",
              "      <td>0.859961</td>\n",
              "      <td>0.836432</td>\n",
              "      <td>0.789373</td>\n",
              "      <td>0.864315</td>\n",
              "      <td>...</td>\n",
              "      <td>0.914581</td>\n",
              "      <td>0.901095</td>\n",
              "      <td>0.886225</td>\n",
              "      <td>0.891244</td>\n",
              "      <td>0.865340</td>\n",
              "      <td>0.767687</td>\n",
              "      <td>0.843795</td>\n",
              "      <td>0.821282</td>\n",
              "      <td>0.704931</td>\n",
              "      <td>1</td>\n",
              "    </tr>\n",
              "    <tr>\n",
              "      <th>124</th>\n",
              "      <td>0.180388</td>\n",
              "      <td>0.305878</td>\n",
              "      <td>0.211760</td>\n",
              "      <td>0.179468</td>\n",
              "      <td>0.304958</td>\n",
              "      <td>0.210840</td>\n",
              "      <td>0.176474</td>\n",
              "      <td>0.301964</td>\n",
              "      <td>0.207846</td>\n",
              "      <td>0.174089</td>\n",
              "      <td>...</td>\n",
              "      <td>0.407024</td>\n",
              "      <td>0.567886</td>\n",
              "      <td>0.167792</td>\n",
              "      <td>0.393432</td>\n",
              "      <td>0.571711</td>\n",
              "      <td>0.150718</td>\n",
              "      <td>0.392157</td>\n",
              "      <td>0.572549</td>\n",
              "      <td>0.149020</td>\n",
              "      <td>1</td>\n",
              "    </tr>\n",
              "    <tr>\n",
              "      <th>125</th>\n",
              "      <td>0.661561</td>\n",
              "      <td>0.649084</td>\n",
              "      <td>0.689929</td>\n",
              "      <td>0.678733</td>\n",
              "      <td>0.669130</td>\n",
              "      <td>0.702080</td>\n",
              "      <td>0.622789</td>\n",
              "      <td>0.623406</td>\n",
              "      <td>0.643414</td>\n",
              "      <td>0.652441</td>\n",
              "      <td>...</td>\n",
              "      <td>0.310077</td>\n",
              "      <td>0.301230</td>\n",
              "      <td>0.180257</td>\n",
              "      <td>0.216560</td>\n",
              "      <td>0.248620</td>\n",
              "      <td>0.111527</td>\n",
              "      <td>0.251654</td>\n",
              "      <td>0.281901</td>\n",
              "      <td>0.122102</td>\n",
              "      <td>1</td>\n",
              "    </tr>\n",
              "  </tbody>\n",
              "</table>\n",
              "<p>126 rows × 67501 columns</p>\n",
              "</div>\n",
              "      <button class=\"colab-df-convert\" onclick=\"convertToInteractive('df-a7cf59ea-5363-4f69-8cf5-1040cecaf1bb')\"\n",
              "              title=\"Convert this dataframe to an interactive table.\"\n",
              "              style=\"display:none;\">\n",
              "        \n",
              "  <svg xmlns=\"http://www.w3.org/2000/svg\" height=\"24px\"viewBox=\"0 0 24 24\"\n",
              "       width=\"24px\">\n",
              "    <path d=\"M0 0h24v24H0V0z\" fill=\"none\"/>\n",
              "    <path d=\"M18.56 5.44l.94 2.06.94-2.06 2.06-.94-2.06-.94-.94-2.06-.94 2.06-2.06.94zm-11 1L8.5 8.5l.94-2.06 2.06-.94-2.06-.94L8.5 2.5l-.94 2.06-2.06.94zm10 10l.94 2.06.94-2.06 2.06-.94-2.06-.94-.94-2.06-.94 2.06-2.06.94z\"/><path d=\"M17.41 7.96l-1.37-1.37c-.4-.4-.92-.59-1.43-.59-.52 0-1.04.2-1.43.59L10.3 9.45l-7.72 7.72c-.78.78-.78 2.05 0 2.83L4 21.41c.39.39.9.59 1.41.59.51 0 1.02-.2 1.41-.59l7.78-7.78 2.81-2.81c.8-.78.8-2.07 0-2.86zM5.41 20L4 18.59l7.72-7.72 1.47 1.35L5.41 20z\"/>\n",
              "  </svg>\n",
              "      </button>\n",
              "      \n",
              "  <style>\n",
              "    .colab-df-container {\n",
              "      display:flex;\n",
              "      flex-wrap:wrap;\n",
              "      gap: 12px;\n",
              "    }\n",
              "\n",
              "    .colab-df-convert {\n",
              "      background-color: #E8F0FE;\n",
              "      border: none;\n",
              "      border-radius: 50%;\n",
              "      cursor: pointer;\n",
              "      display: none;\n",
              "      fill: #1967D2;\n",
              "      height: 32px;\n",
              "      padding: 0 0 0 0;\n",
              "      width: 32px;\n",
              "    }\n",
              "\n",
              "    .colab-df-convert:hover {\n",
              "      background-color: #E2EBFA;\n",
              "      box-shadow: 0px 1px 2px rgba(60, 64, 67, 0.3), 0px 1px 3px 1px rgba(60, 64, 67, 0.15);\n",
              "      fill: #174EA6;\n",
              "    }\n",
              "\n",
              "    [theme=dark] .colab-df-convert {\n",
              "      background-color: #3B4455;\n",
              "      fill: #D2E3FC;\n",
              "    }\n",
              "\n",
              "    [theme=dark] .colab-df-convert:hover {\n",
              "      background-color: #434B5C;\n",
              "      box-shadow: 0px 1px 3px 1px rgba(0, 0, 0, 0.15);\n",
              "      filter: drop-shadow(0px 1px 2px rgba(0, 0, 0, 0.3));\n",
              "      fill: #FFFFFF;\n",
              "    }\n",
              "  </style>\n",
              "\n",
              "      <script>\n",
              "        const buttonEl =\n",
              "          document.querySelector('#df-a7cf59ea-5363-4f69-8cf5-1040cecaf1bb button.colab-df-convert');\n",
              "        buttonEl.style.display =\n",
              "          google.colab.kernel.accessAllowed ? 'block' : 'none';\n",
              "\n",
              "        async function convertToInteractive(key) {\n",
              "          const element = document.querySelector('#df-a7cf59ea-5363-4f69-8cf5-1040cecaf1bb');\n",
              "          const dataTable =\n",
              "            await google.colab.kernel.invokeFunction('convertToInteractive',\n",
              "                                                     [key], {});\n",
              "          if (!dataTable) return;\n",
              "\n",
              "          const docLinkHtml = 'Like what you see? Visit the ' +\n",
              "            '<a target=\"_blank\" href=https://colab.research.google.com/notebooks/data_table.ipynb>data table notebook</a>'\n",
              "            + ' to learn more about interactive tables.';\n",
              "          element.innerHTML = '';\n",
              "          dataTable['output_type'] = 'display_data';\n",
              "          await google.colab.output.renderOutput(dataTable, element);\n",
              "          const docLink = document.createElement('div');\n",
              "          docLink.innerHTML = docLinkHtml;\n",
              "          element.appendChild(docLink);\n",
              "        }\n",
              "      </script>\n",
              "    </div>\n",
              "  </div>\n",
              "  "
            ]
          },
          "metadata": {},
          "execution_count": 100
        }
      ]
    },
    {
      "cell_type": "code",
      "source": [
        "X_train,X_test,y_train,y_test=train_test_split(data,target,test_size=0.3,random_state=1)"
      ],
      "metadata": {
        "id": "aKzo4ABgL6P-"
      },
      "execution_count": 101,
      "outputs": []
    },
    {
      "cell_type": "code",
      "source": [
        "sv=SVC()\n",
        "sv.fit(X_train,y_train)\n",
        "y_pred=sv.predict(X_test)\n",
        "y_pred"
      ],
      "metadata": {
        "colab": {
          "base_uri": "https://localhost:8080/"
        },
        "id": "gJxSAEVnMIHZ",
        "outputId": "f1eb82e4-6ea2-4da4-b29c-65248bf0ad82"
      },
      "execution_count": 104,
      "outputs": [
        {
          "output_type": "execute_result",
          "data": {
            "text/plain": [
              "array([0, 0, 0, 0, 1, 1, 0, 1, 1, 1, 1, 0, 1, 1, 1, 0, 1, 1, 0, 1, 1, 0,\n",
              "       0, 0, 1, 1, 0, 0, 1, 1, 0, 1, 0, 1, 0, 1, 0, 1])"
            ]
          },
          "metadata": {},
          "execution_count": 104
        }
      ]
    },
    {
      "cell_type": "code",
      "source": [
        "print(classification_report(y_test,y_pred))"
      ],
      "metadata": {
        "colab": {
          "base_uri": "https://localhost:8080/"
        },
        "id": "eZn9FMd_MWIo",
        "outputId": "ab55bd01-6990-4801-cc45-58b97c069d8b"
      },
      "execution_count": 105,
      "outputs": [
        {
          "output_type": "stream",
          "name": "stdout",
          "text": [
            "              precision    recall  f1-score   support\n",
            "\n",
            "           0       0.29      0.33      0.31        15\n",
            "           1       0.52      0.48      0.50        23\n",
            "\n",
            "    accuracy                           0.42        38\n",
            "   macro avg       0.41      0.41      0.41        38\n",
            "weighted avg       0.43      0.42      0.43        38\n",
            "\n"
          ]
        }
      ]
    },
    {
      "cell_type": "code",
      "source": [
        "print(ConfusionMatrixDisplay.from_predictions(y_test,y_pred))"
      ],
      "metadata": {
        "colab": {
          "base_uri": "https://localhost:8080/",
          "height": 473
        },
        "id": "3FwAThN2PaW5",
        "outputId": "74c2a7fb-5c64-419a-b9be-78da28d5e4c4"
      },
      "execution_count": 108,
      "outputs": [
        {
          "output_type": "stream",
          "name": "stdout",
          "text": [
            "<sklearn.metrics._plot.confusion_matrix.ConfusionMatrixDisplay object at 0x7f03b4fb26b0>\n"
          ]
        },
        {
          "output_type": "display_data",
          "data": {
            "text/plain": [
              "<Figure size 640x480 with 2 Axes>"
            ],
            "image/png": "[encoded data removed]"
          },
          "metadata": {}
        }
      ]
    },
    {
      "cell_type": "code",
      "source": [
        "new=imread('/content/drive/MyDrive/data/Cat/downloadcat.jpeg')\n",
        "plt.imshow(new)\n",
        "plt.show"
      ],
      "metadata": {
        "colab": {
          "base_uri": "https://localhost:8080/",
          "height": 453
        },
        "id": "UzgM94KbO31t",
        "outputId": "4f4fcc4a-b2fb-48d7-ab9a-535e69d52535"
      },
      "execution_count": 106,
      "outputs": [
        {
          "output_type": "execute_result",
          "data": {
            "text/plain": [
              "<function matplotlib.pyplot.show(close=None, block=None)>"
            ]
          },
          "metadata": {},
          "execution_count": 106
        },
        {
          "output_type": "display_data",
          "data": {
            "text/plain": [
              "<Figure size 640x480 with 1 Axes>"
            ],
            "image/png": "[encoded data removed]"
          },
          "metadata": {}
        }
      ]
    },
    {
      "cell_type": "code",
      "source": [
        "new=resize(new,(150,150,3))\n",
        "newimg=new.flatten()\n",
        "newimg=newimg.reshape(1,-1)\n",
        "newimg.shape"
      ],
      "metadata": {
        "colab": {
          "base_uri": "https://localhost:8080/"
        },
        "id": "7xveB6f-PLb3",
        "outputId": "1ef873e9-1b01-4cea-bd37-fe6b319faf38"
      },
      "execution_count": 109,
      "outputs": [
        {
          "output_type": "execute_result",
          "data": {
            "text/plain": [
              "(1, 67500)"
            ]
          },
          "metadata": {},
          "execution_count": 109
        }
      ]
    },
    {
      "cell_type": "code",
      "source": [
        "y=sv.predict(newimg)\n",
        "if y==0:\n",
        "  print('cat')\n",
        "elif y==1:\n",
        "  print('dog')"
      ],
      "metadata": {
        "colab": {
          "base_uri": "https://localhost:8080/"
        },
        "id": "MLeIISAtP6c0",
        "outputId": "d59448b8-1ac3-4759-cff3-1dfe4d08e42c"
      },
      "execution_count": 113,
      "outputs": [
        {
          "output_type": "stream",
          "name": "stdout",
          "text": [
            "cat\n"
          ]
        }
      ]
    }
  ]
}